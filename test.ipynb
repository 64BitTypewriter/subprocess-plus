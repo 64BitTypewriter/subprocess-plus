{
 "cells": [
  {
   "cell_type": "code",
   "execution_count": 5,
   "metadata": {
    "collapsed": false
   },
   "outputs": [
    {
     "name": "stdout",
     "output_type": "stream",
     "text": [
      "\u001b[1;33m-> echo \"Wild monkey N.1 appears!\"\u001b[0m [1 of 3]\n",
      "Process 1 of 3 completed. Time: 0:00:00.005722\n",
      "\u001b[1;33m-> echo \"Wild monkey N.2 appears!\"\u001b[0m [2 of 3]\n",
      "Process 2 of 3 completed. Time: 0:00:00.007546\n",
      "\u001b[1;33m-> echo \"Wild monkey N.3 appears!\"\u001b[0m [3 of 3]\n",
      "Process 3 of 3 completed. Time: 0:00:00.007757\n"
     ]
    }
   ],
   "source": [
    "from subprocPlus.subprocPlus import ProcParallel as PP\n",
    "from subprocPlus.subprocPlus import ProcSeries as PS\n",
    "\n",
    "njobs = 3\n",
    "for i in range (njobs):\n",
    "    cmd = 'echo \"Wild monkey N.%i appears!\"' %(i+1)\n",
    "    PS(cmd,i,njobs)"
   ]
  },
  {
   "cell_type": "code",
   "execution_count": null,
   "metadata": {
    "collapsed": true
   },
   "outputs": [],
   "source": []
  }
 ],
 "metadata": {
  "kernelspec": {
   "display_name": "Python 2",
   "language": "python",
   "name": "python2"
  },
  "language_info": {
   "codemirror_mode": {
    "name": "ipython",
    "version": 2
   },
   "file_extension": ".py",
   "mimetype": "text/x-python",
   "name": "python",
   "nbconvert_exporter": "python",
   "pygments_lexer": "ipython2",
   "version": "2.7.10"
  }
 },
 "nbformat": 4,
 "nbformat_minor": 0
}
